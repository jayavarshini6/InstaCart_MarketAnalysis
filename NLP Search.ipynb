{
 "cells": [
  {
   "cell_type": "code",
   "execution_count": 1,
   "id": "64baf162",
   "metadata": {},
   "outputs": [],
   "source": [
    "import pandas as pd\n",
    "from sklearn.metrics.pairwise import cosine_similarity\n",
    "from sklearn.feature_extraction.text import CountVectorizer"
   ]
  },
  {
   "cell_type": "code",
   "execution_count": 3,
   "id": "ed62c810",
   "metadata": {},
   "outputs": [],
   "source": [
    "prds = pd.read_csv('./archive (1)/products.csv')\n",
    "aisles= pd.read_csv('./archive (1)/aisles.csv')\n",
    "dpts = pd.read_csv('./archive (1)/departments.csv')"
   ]
  },
  {
   "cell_type": "code",
   "execution_count": 4,
   "id": "07e79b07",
   "metadata": {},
   "outputs": [
    {
     "data": {
      "text/html": [
       "<div>\n",
       "<style scoped>\n",
       "    .dataframe tbody tr th:only-of-type {\n",
       "        vertical-align: middle;\n",
       "    }\n",
       "\n",
       "    .dataframe tbody tr th {\n",
       "        vertical-align: top;\n",
       "    }\n",
       "\n",
       "    .dataframe thead th {\n",
       "        text-align: right;\n",
       "    }\n",
       "</style>\n",
       "<table border=\"1\" class=\"dataframe\">\n",
       "  <thead>\n",
       "    <tr style=\"text-align: right;\">\n",
       "      <th></th>\n",
       "      <th>product_id</th>\n",
       "      <th>product_name</th>\n",
       "      <th>aisle_id</th>\n",
       "      <th>department_id</th>\n",
       "    </tr>\n",
       "  </thead>\n",
       "  <tbody>\n",
       "    <tr>\n",
       "      <th>0</th>\n",
       "      <td>1</td>\n",
       "      <td>Chocolate Sandwich Cookies</td>\n",
       "      <td>61</td>\n",
       "      <td>19</td>\n",
       "    </tr>\n",
       "    <tr>\n",
       "      <th>1</th>\n",
       "      <td>2</td>\n",
       "      <td>All-Seasons Salt</td>\n",
       "      <td>104</td>\n",
       "      <td>13</td>\n",
       "    </tr>\n",
       "    <tr>\n",
       "      <th>2</th>\n",
       "      <td>3</td>\n",
       "      <td>Robust Golden Unsweetened Oolong Tea</td>\n",
       "      <td>94</td>\n",
       "      <td>7</td>\n",
       "    </tr>\n",
       "    <tr>\n",
       "      <th>3</th>\n",
       "      <td>4</td>\n",
       "      <td>Smart Ones Classic Favorites Mini Rigatoni Wit...</td>\n",
       "      <td>38</td>\n",
       "      <td>1</td>\n",
       "    </tr>\n",
       "    <tr>\n",
       "      <th>4</th>\n",
       "      <td>5</td>\n",
       "      <td>Green Chile Anytime Sauce</td>\n",
       "      <td>5</td>\n",
       "      <td>13</td>\n",
       "    </tr>\n",
       "  </tbody>\n",
       "</table>\n",
       "</div>"
      ],
      "text/plain": [
       "   product_id                                       product_name  aisle_id  \\\n",
       "0           1                         Chocolate Sandwich Cookies        61   \n",
       "1           2                                   All-Seasons Salt       104   \n",
       "2           3               Robust Golden Unsweetened Oolong Tea        94   \n",
       "3           4  Smart Ones Classic Favorites Mini Rigatoni Wit...        38   \n",
       "4           5                          Green Chile Anytime Sauce         5   \n",
       "\n",
       "   department_id  \n",
       "0             19  \n",
       "1             13  \n",
       "2              7  \n",
       "3              1  \n",
       "4             13  "
      ]
     },
     "execution_count": 4,
     "metadata": {},
     "output_type": "execute_result"
    }
   ],
   "source": [
    "prds.head()"
   ]
  },
  {
   "cell_type": "code",
   "execution_count": 5,
   "id": "9b633cf9",
   "metadata": {},
   "outputs": [
    {
     "data": {
      "text/html": [
       "<div>\n",
       "<style scoped>\n",
       "    .dataframe tbody tr th:only-of-type {\n",
       "        vertical-align: middle;\n",
       "    }\n",
       "\n",
       "    .dataframe tbody tr th {\n",
       "        vertical-align: top;\n",
       "    }\n",
       "\n",
       "    .dataframe thead th {\n",
       "        text-align: right;\n",
       "    }\n",
       "</style>\n",
       "<table border=\"1\" class=\"dataframe\">\n",
       "  <thead>\n",
       "    <tr style=\"text-align: right;\">\n",
       "      <th></th>\n",
       "      <th>department_id</th>\n",
       "      <th>department</th>\n",
       "    </tr>\n",
       "  </thead>\n",
       "  <tbody>\n",
       "    <tr>\n",
       "      <th>0</th>\n",
       "      <td>1</td>\n",
       "      <td>frozen</td>\n",
       "    </tr>\n",
       "    <tr>\n",
       "      <th>1</th>\n",
       "      <td>2</td>\n",
       "      <td>other</td>\n",
       "    </tr>\n",
       "    <tr>\n",
       "      <th>2</th>\n",
       "      <td>3</td>\n",
       "      <td>bakery</td>\n",
       "    </tr>\n",
       "    <tr>\n",
       "      <th>3</th>\n",
       "      <td>4</td>\n",
       "      <td>produce</td>\n",
       "    </tr>\n",
       "    <tr>\n",
       "      <th>4</th>\n",
       "      <td>5</td>\n",
       "      <td>alcohol</td>\n",
       "    </tr>\n",
       "  </tbody>\n",
       "</table>\n",
       "</div>"
      ],
      "text/plain": [
       "   department_id department\n",
       "0              1     frozen\n",
       "1              2      other\n",
       "2              3     bakery\n",
       "3              4    produce\n",
       "4              5    alcohol"
      ]
     },
     "execution_count": 5,
     "metadata": {},
     "output_type": "execute_result"
    }
   ],
   "source": [
    "dpts.head()"
   ]
  },
  {
   "cell_type": "code",
   "execution_count": 6,
   "id": "d3698eb5",
   "metadata": {},
   "outputs": [
    {
     "data": {
      "text/html": [
       "<div>\n",
       "<style scoped>\n",
       "    .dataframe tbody tr th:only-of-type {\n",
       "        vertical-align: middle;\n",
       "    }\n",
       "\n",
       "    .dataframe tbody tr th {\n",
       "        vertical-align: top;\n",
       "    }\n",
       "\n",
       "    .dataframe thead th {\n",
       "        text-align: right;\n",
       "    }\n",
       "</style>\n",
       "<table border=\"1\" class=\"dataframe\">\n",
       "  <thead>\n",
       "    <tr style=\"text-align: right;\">\n",
       "      <th></th>\n",
       "      <th>aisle_id</th>\n",
       "      <th>aisle</th>\n",
       "    </tr>\n",
       "  </thead>\n",
       "  <tbody>\n",
       "    <tr>\n",
       "      <th>0</th>\n",
       "      <td>1</td>\n",
       "      <td>prepared soups salads</td>\n",
       "    </tr>\n",
       "    <tr>\n",
       "      <th>1</th>\n",
       "      <td>2</td>\n",
       "      <td>specialty cheeses</td>\n",
       "    </tr>\n",
       "    <tr>\n",
       "      <th>2</th>\n",
       "      <td>3</td>\n",
       "      <td>energy granola bars</td>\n",
       "    </tr>\n",
       "    <tr>\n",
       "      <th>3</th>\n",
       "      <td>4</td>\n",
       "      <td>instant foods</td>\n",
       "    </tr>\n",
       "    <tr>\n",
       "      <th>4</th>\n",
       "      <td>5</td>\n",
       "      <td>marinades meat preparation</td>\n",
       "    </tr>\n",
       "  </tbody>\n",
       "</table>\n",
       "</div>"
      ],
      "text/plain": [
       "   aisle_id                       aisle\n",
       "0         1       prepared soups salads\n",
       "1         2           specialty cheeses\n",
       "2         3         energy granola bars\n",
       "3         4               instant foods\n",
       "4         5  marinades meat preparation"
      ]
     },
     "execution_count": 6,
     "metadata": {},
     "output_type": "execute_result"
    }
   ],
   "source": [
    "aisles.head()"
   ]
  },
  {
   "cell_type": "code",
   "execution_count": 9,
   "id": "af539c3e",
   "metadata": {},
   "outputs": [],
   "source": [
    "prod_desc = pd.merge(pd.merge(prds,aisles, on = 'aisle_id',how ='inner'),dpts,on = 'department_id',how= 'inner')"
   ]
  },
  {
   "cell_type": "code",
   "execution_count": 10,
   "id": "9054e53e",
   "metadata": {},
   "outputs": [
    {
     "data": {
      "text/html": [
       "<div>\n",
       "<style scoped>\n",
       "    .dataframe tbody tr th:only-of-type {\n",
       "        vertical-align: middle;\n",
       "    }\n",
       "\n",
       "    .dataframe tbody tr th {\n",
       "        vertical-align: top;\n",
       "    }\n",
       "\n",
       "    .dataframe thead th {\n",
       "        text-align: right;\n",
       "    }\n",
       "</style>\n",
       "<table border=\"1\" class=\"dataframe\">\n",
       "  <thead>\n",
       "    <tr style=\"text-align: right;\">\n",
       "      <th></th>\n",
       "      <th>product_id</th>\n",
       "      <th>product_name</th>\n",
       "      <th>aisle_id</th>\n",
       "      <th>department_id</th>\n",
       "      <th>aisle</th>\n",
       "      <th>department</th>\n",
       "    </tr>\n",
       "  </thead>\n",
       "  <tbody>\n",
       "    <tr>\n",
       "      <th>0</th>\n",
       "      <td>1</td>\n",
       "      <td>Chocolate Sandwich Cookies</td>\n",
       "      <td>61</td>\n",
       "      <td>19</td>\n",
       "      <td>cookies cakes</td>\n",
       "      <td>snacks</td>\n",
       "    </tr>\n",
       "    <tr>\n",
       "      <th>1</th>\n",
       "      <td>78</td>\n",
       "      <td>Nutter Butter Cookie Bites Go-Pak</td>\n",
       "      <td>61</td>\n",
       "      <td>19</td>\n",
       "      <td>cookies cakes</td>\n",
       "      <td>snacks</td>\n",
       "    </tr>\n",
       "    <tr>\n",
       "      <th>2</th>\n",
       "      <td>102</td>\n",
       "      <td>Danish Butter Cookies</td>\n",
       "      <td>61</td>\n",
       "      <td>19</td>\n",
       "      <td>cookies cakes</td>\n",
       "      <td>snacks</td>\n",
       "    </tr>\n",
       "    <tr>\n",
       "      <th>3</th>\n",
       "      <td>172</td>\n",
       "      <td>Gluten Free All Natural Chocolate Chip Cookies</td>\n",
       "      <td>61</td>\n",
       "      <td>19</td>\n",
       "      <td>cookies cakes</td>\n",
       "      <td>snacks</td>\n",
       "    </tr>\n",
       "    <tr>\n",
       "      <th>4</th>\n",
       "      <td>285</td>\n",
       "      <td>Mini Nilla Wafers Munch Pack</td>\n",
       "      <td>61</td>\n",
       "      <td>19</td>\n",
       "      <td>cookies cakes</td>\n",
       "      <td>snacks</td>\n",
       "    </tr>\n",
       "  </tbody>\n",
       "</table>\n",
       "</div>"
      ],
      "text/plain": [
       "   product_id                                    product_name  aisle_id  \\\n",
       "0           1                      Chocolate Sandwich Cookies        61   \n",
       "1          78               Nutter Butter Cookie Bites Go-Pak        61   \n",
       "2         102                           Danish Butter Cookies        61   \n",
       "3         172  Gluten Free All Natural Chocolate Chip Cookies        61   \n",
       "4         285                    Mini Nilla Wafers Munch Pack        61   \n",
       "\n",
       "   department_id          aisle department  \n",
       "0             19  cookies cakes     snacks  \n",
       "1             19  cookies cakes     snacks  \n",
       "2             19  cookies cakes     snacks  \n",
       "3             19  cookies cakes     snacks  \n",
       "4             19  cookies cakes     snacks  "
      ]
     },
     "execution_count": 10,
     "metadata": {},
     "output_type": "execute_result"
    }
   ],
   "source": [
    "prod_desc.head()"
   ]
  },
  {
   "cell_type": "code",
   "execution_count": 12,
   "id": "af6daff7",
   "metadata": {},
   "outputs": [],
   "source": [
    "prod_desc['metadata']= prod_desc.apply(lambda x:x['aisle']+' '+x['department']+' '+ x['product_name'],axis =1 )"
   ]
  },
  {
   "cell_type": "code",
   "execution_count": 13,
   "id": "b239b9f0",
   "metadata": {},
   "outputs": [
    {
     "data": {
      "text/html": [
       "<div>\n",
       "<style scoped>\n",
       "    .dataframe tbody tr th:only-of-type {\n",
       "        vertical-align: middle;\n",
       "    }\n",
       "\n",
       "    .dataframe tbody tr th {\n",
       "        vertical-align: top;\n",
       "    }\n",
       "\n",
       "    .dataframe thead th {\n",
       "        text-align: right;\n",
       "    }\n",
       "</style>\n",
       "<table border=\"1\" class=\"dataframe\">\n",
       "  <thead>\n",
       "    <tr style=\"text-align: right;\">\n",
       "      <th></th>\n",
       "      <th>product_id</th>\n",
       "      <th>product_name</th>\n",
       "      <th>aisle_id</th>\n",
       "      <th>department_id</th>\n",
       "      <th>aisle</th>\n",
       "      <th>department</th>\n",
       "      <th>metadata</th>\n",
       "    </tr>\n",
       "  </thead>\n",
       "  <tbody>\n",
       "    <tr>\n",
       "      <th>0</th>\n",
       "      <td>1</td>\n",
       "      <td>Chocolate Sandwich Cookies</td>\n",
       "      <td>61</td>\n",
       "      <td>19</td>\n",
       "      <td>cookies cakes</td>\n",
       "      <td>snacks</td>\n",
       "      <td>cookies cakes snacks Chocolate Sandwich Cookies</td>\n",
       "    </tr>\n",
       "    <tr>\n",
       "      <th>1</th>\n",
       "      <td>78</td>\n",
       "      <td>Nutter Butter Cookie Bites Go-Pak</td>\n",
       "      <td>61</td>\n",
       "      <td>19</td>\n",
       "      <td>cookies cakes</td>\n",
       "      <td>snacks</td>\n",
       "      <td>cookies cakes snacks Nutter Butter Cookie Bite...</td>\n",
       "    </tr>\n",
       "    <tr>\n",
       "      <th>2</th>\n",
       "      <td>102</td>\n",
       "      <td>Danish Butter Cookies</td>\n",
       "      <td>61</td>\n",
       "      <td>19</td>\n",
       "      <td>cookies cakes</td>\n",
       "      <td>snacks</td>\n",
       "      <td>cookies cakes snacks Danish Butter Cookies</td>\n",
       "    </tr>\n",
       "    <tr>\n",
       "      <th>3</th>\n",
       "      <td>172</td>\n",
       "      <td>Gluten Free All Natural Chocolate Chip Cookies</td>\n",
       "      <td>61</td>\n",
       "      <td>19</td>\n",
       "      <td>cookies cakes</td>\n",
       "      <td>snacks</td>\n",
       "      <td>cookies cakes snacks Gluten Free All Natural C...</td>\n",
       "    </tr>\n",
       "    <tr>\n",
       "      <th>4</th>\n",
       "      <td>285</td>\n",
       "      <td>Mini Nilla Wafers Munch Pack</td>\n",
       "      <td>61</td>\n",
       "      <td>19</td>\n",
       "      <td>cookies cakes</td>\n",
       "      <td>snacks</td>\n",
       "      <td>cookies cakes snacks Mini Nilla Wafers Munch Pack</td>\n",
       "    </tr>\n",
       "  </tbody>\n",
       "</table>\n",
       "</div>"
      ],
      "text/plain": [
       "   product_id                                    product_name  aisle_id  \\\n",
       "0           1                      Chocolate Sandwich Cookies        61   \n",
       "1          78               Nutter Butter Cookie Bites Go-Pak        61   \n",
       "2         102                           Danish Butter Cookies        61   \n",
       "3         172  Gluten Free All Natural Chocolate Chip Cookies        61   \n",
       "4         285                    Mini Nilla Wafers Munch Pack        61   \n",
       "\n",
       "   department_id          aisle department  \\\n",
       "0             19  cookies cakes     snacks   \n",
       "1             19  cookies cakes     snacks   \n",
       "2             19  cookies cakes     snacks   \n",
       "3             19  cookies cakes     snacks   \n",
       "4             19  cookies cakes     snacks   \n",
       "\n",
       "                                            metadata  \n",
       "0    cookies cakes snacks Chocolate Sandwich Cookies  \n",
       "1  cookies cakes snacks Nutter Butter Cookie Bite...  \n",
       "2         cookies cakes snacks Danish Butter Cookies  \n",
       "3  cookies cakes snacks Gluten Free All Natural C...  \n",
       "4  cookies cakes snacks Mini Nilla Wafers Munch Pack  "
      ]
     },
     "execution_count": 13,
     "metadata": {},
     "output_type": "execute_result"
    }
   ],
   "source": [
    "prod_desc.head()"
   ]
  },
  {
   "cell_type": "code",
   "execution_count": 17,
   "id": "6cdebe47",
   "metadata": {},
   "outputs": [],
   "source": [
    "count_vec = CountVectorizer(stop_words = 'english')\n",
    "count_vec_matrix = count_vec.fit_transform(prod_desc['metadata'])"
   ]
  },
  {
   "cell_type": "code",
   "execution_count": 18,
   "id": "9efb57d3",
   "metadata": {},
   "outputs": [
    {
     "data": {
      "text/plain": [
       "(49688, 10624)"
      ]
     },
     "execution_count": 18,
     "metadata": {},
     "output_type": "execute_result"
    }
   ],
   "source": [
    "count_vec_matrix.shape"
   ]
  },
  {
   "cell_type": "code",
   "execution_count": 34,
   "id": "b0019251",
   "metadata": {},
   "outputs": [],
   "source": [
    "# Function definition : This function takes in words and vectorizes them, then finds similar vector in the count_vec_matrix\n",
    "def metadata_search_engine(product_input):\n",
    "\n",
    "    vec = count_vec.transform(pd.Series(product_input))\n",
    "    cosine_sim = cosine_similarity(vec, count_vec_matrix)\n",
    "    similarity_score = pd.DataFrame(cosine_sim.reshape(49688,), index = prod_desc.index, columns=['score'])\n",
    "    non_zero_scores = similarity_score[similarity_score['score'] > 0]\n",
    "\n",
    "    if len(non_zero_scores) == 0:\n",
    "        print('No similar products found.  Please refine your search terms and try again')\n",
    "        return\n",
    "\n",
    "    if len(non_zero_scores) < 10:\n",
    "        item_count = len(non_zero_scores)\n",
    "    else:\n",
    "        item_count = 10\n",
    "\n",
    "    similarity_scores = similarity_score.sort_values(['score'], ascending=False)[:item_count]\n",
    "\n",
    "    return prod_desc['product_name'].iloc[similarity_scores.index]"
   ]
  },
  {
   "cell_type": "code",
   "execution_count": 36,
   "id": "8d8c1120",
   "metadata": {},
   "outputs": [
    {
     "data": {
      "text/plain": [
       "46461             Tabouli\n",
       "46427               Chili\n",
       "46452             Edamame\n",
       "46475        Lentil Salad\n",
       "46482        Potato Salad\n",
       "46501           Miso Soup\n",
       "46496    The Vegan Caesar\n",
       "46410       Caprese Salad\n",
       "46490        Caesar Salad\n",
       "46488       Zucchini Soup\n",
       "Name: product_name, dtype: object"
      ]
     },
     "execution_count": 36,
     "metadata": {},
     "output_type": "execute_result"
    }
   ],
   "source": [
    "metadata_search_engine('Salads')"
   ]
  },
  {
   "cell_type": "code",
   "execution_count": 37,
   "id": "4cc5efc3",
   "metadata": {},
   "outputs": [
    {
     "data": {
      "text/plain": [
       "34053                Shampoo Baby Shampoo\n",
       "24763                    Everyday Shampoo\n",
       "43535                  Strawberry Shampoo\n",
       "24147                Lice Killing Shampoo\n",
       "34099                      Shampoo & Wash\n",
       "22935                             Shampoo\n",
       "31653    Carpet & Rug Shampoo Concentrate\n",
       "23281      2 in 1 Shampoo and Conditioner\n",
       "23181                    Therappe Shampoo\n",
       "22757                  Nourishing Shampoo\n",
       "Name: product_name, dtype: object"
      ]
     },
     "execution_count": 37,
     "metadata": {},
     "output_type": "execute_result"
    }
   ],
   "source": [
    "metadata_search_engine('Shampoo')"
   ]
  },
  {
   "cell_type": "code",
   "execution_count": 38,
   "id": "488c70ca",
   "metadata": {},
   "outputs": [
    {
     "data": {
      "text/plain": [
       "34151                     Bedtime Bath™ Baby Bath\n",
       "34145                         Soothing Vapor Bath\n",
       "34088                    Bubble Bath Extra Gentle\n",
       "34168                 Eucalyptus Mint Bubble Bath\n",
       "34085           Over Tired and Cranky Bubble Bath\n",
       "34090                           Bedtime Baby Bath\n",
       "49623                         Cellular Detox Bath\n",
       "34059          Everyday Shea Lavender Bubble Bath\n",
       "34170    Super Sensitive No Fragrance Bubble Bath\n",
       "34105                           Baby Bedtime Bath\n",
       "Name: product_name, dtype: object"
      ]
     },
     "execution_count": 38,
     "metadata": {},
     "output_type": "execute_result"
    }
   ],
   "source": [
    "metadata_search_engine('Bath')"
   ]
  },
  {
   "cell_type": "code",
   "execution_count": null,
   "id": "af043022",
   "metadata": {},
   "outputs": [],
   "source": []
  }
 ],
 "metadata": {
  "kernelspec": {
   "display_name": "Python 3 (ipykernel)",
   "language": "python",
   "name": "python3"
  },
  "language_info": {
   "codemirror_mode": {
    "name": "ipython",
    "version": 3
   },
   "file_extension": ".py",
   "mimetype": "text/x-python",
   "name": "python",
   "nbconvert_exporter": "python",
   "pygments_lexer": "ipython3",
   "version": "3.10.9"
  }
 },
 "nbformat": 4,
 "nbformat_minor": 5
}
